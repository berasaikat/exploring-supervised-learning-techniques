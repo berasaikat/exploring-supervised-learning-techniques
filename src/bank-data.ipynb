{
 "cells": [
  {
   "attachments": {},
   "cell_type": "markdown",
   "id": "YVkdM8lOZrjI",
   "metadata": {
    "id": "YVkdM8lOZrjI"
   },
   "source": [
    "## Loading Data and Packages"
   ]
  },
  {
   "cell_type": "code",
   "execution_count": 1,
   "id": "71cfd1da-f3ec-4efb-a900-9cfb810a1c12",
   "metadata": {
    "id": "71cfd1da-f3ec-4efb-a900-9cfb810a1c12"
   },
   "outputs": [],
   "source": [
    "import pandas as pd\n",
    "import numpy as np\n",
    "import os, timeit\n",
    "from scipy.stats import randint, uniform\n",
    "\n",
    "from pandas.api.types import CategoricalDtype\n",
    "from sklearn.preprocessing import StandardScaler, LabelEncoder, OrdinalEncoder\n",
    "from sklearn.model_selection import train_test_split, GridSearchCV\n",
    "from sklearn.base import BaseEstimator, TransformerMixin\n",
    "from sklearn import metrics\n",
    "from sklearn import tree, decomposition\n",
    "from sklearn import ensemble\n",
    "from sklearn.feature_selection import SelectKBest\n",
    "from sklearn.naive_bayes import GaussianNB, MultinomialNB\n",
    "from sklearn.ensemble import RandomForestClassifier, AdaBoostClassifier\n",
    "from sklearn.tree import DecisionTreeClassifier\n",
    "\n",
    "import matplotlib.pyplot as plt\n",
    "import seaborn as sns\n",
    "\n",
    "import warnings\n",
    "warnings.filterwarnings('ignore')"
   ]
  },
  {
   "cell_type": "code",
   "execution_count": 2,
   "metadata": {},
   "outputs": [],
   "source": [
    "seed = 42            # setting random seed\n",
    "np.random.seed(seed)"
   ]
  },
  {
   "cell_type": "code",
   "execution_count": 3,
   "id": "b4a5645c-71ea-422f-956c-385c1018ec82",
   "metadata": {
    "id": "b4a5645c-71ea-422f-956c-385c1018ec82"
   },
   "outputs": [],
   "source": [
    "%load_ext memory_profiler"
   ]
  },
  {
   "cell_type": "code",
   "execution_count": 4,
   "metadata": {},
   "outputs": [
    {
     "data": {
      "text/html": [
       "<div>\n",
       "<style scoped>\n",
       "    .dataframe tbody tr th:only-of-type {\n",
       "        vertical-align: middle;\n",
       "    }\n",
       "\n",
       "    .dataframe tbody tr th {\n",
       "        vertical-align: top;\n",
       "    }\n",
       "\n",
       "    .dataframe thead th {\n",
       "        text-align: right;\n",
       "    }\n",
       "</style>\n",
       "<table border=\"1\" class=\"dataframe\">\n",
       "  <thead>\n",
       "    <tr style=\"text-align: right;\">\n",
       "      <th></th>\n",
       "      <th>age</th>\n",
       "      <th>job</th>\n",
       "      <th>marital</th>\n",
       "      <th>education</th>\n",
       "      <th>default</th>\n",
       "      <th>housing</th>\n",
       "      <th>loan</th>\n",
       "      <th>contact</th>\n",
       "      <th>month</th>\n",
       "      <th>day_of_week</th>\n",
       "      <th>...</th>\n",
       "      <th>campaign</th>\n",
       "      <th>pdays</th>\n",
       "      <th>previous</th>\n",
       "      <th>poutcome</th>\n",
       "      <th>emp.var.rate</th>\n",
       "      <th>cons.price.idx</th>\n",
       "      <th>cons.conf.idx</th>\n",
       "      <th>euribor3m</th>\n",
       "      <th>nr.employed</th>\n",
       "      <th>y</th>\n",
       "    </tr>\n",
       "  </thead>\n",
       "  <tbody>\n",
       "    <tr>\n",
       "      <th>0</th>\n",
       "      <td>56</td>\n",
       "      <td>housemaid</td>\n",
       "      <td>married</td>\n",
       "      <td>basic.4y</td>\n",
       "      <td>no</td>\n",
       "      <td>no</td>\n",
       "      <td>no</td>\n",
       "      <td>telephone</td>\n",
       "      <td>may</td>\n",
       "      <td>mon</td>\n",
       "      <td>...</td>\n",
       "      <td>1</td>\n",
       "      <td>999</td>\n",
       "      <td>0</td>\n",
       "      <td>nonexistent</td>\n",
       "      <td>1.1</td>\n",
       "      <td>93.994</td>\n",
       "      <td>-36.4</td>\n",
       "      <td>4.857</td>\n",
       "      <td>5191.0</td>\n",
       "      <td>no</td>\n",
       "    </tr>\n",
       "    <tr>\n",
       "      <th>1</th>\n",
       "      <td>57</td>\n",
       "      <td>services</td>\n",
       "      <td>married</td>\n",
       "      <td>high.school</td>\n",
       "      <td>unknown</td>\n",
       "      <td>no</td>\n",
       "      <td>no</td>\n",
       "      <td>telephone</td>\n",
       "      <td>may</td>\n",
       "      <td>mon</td>\n",
       "      <td>...</td>\n",
       "      <td>1</td>\n",
       "      <td>999</td>\n",
       "      <td>0</td>\n",
       "      <td>nonexistent</td>\n",
       "      <td>1.1</td>\n",
       "      <td>93.994</td>\n",
       "      <td>-36.4</td>\n",
       "      <td>4.857</td>\n",
       "      <td>5191.0</td>\n",
       "      <td>no</td>\n",
       "    </tr>\n",
       "    <tr>\n",
       "      <th>2</th>\n",
       "      <td>37</td>\n",
       "      <td>services</td>\n",
       "      <td>married</td>\n",
       "      <td>high.school</td>\n",
       "      <td>no</td>\n",
       "      <td>yes</td>\n",
       "      <td>no</td>\n",
       "      <td>telephone</td>\n",
       "      <td>may</td>\n",
       "      <td>mon</td>\n",
       "      <td>...</td>\n",
       "      <td>1</td>\n",
       "      <td>999</td>\n",
       "      <td>0</td>\n",
       "      <td>nonexistent</td>\n",
       "      <td>1.1</td>\n",
       "      <td>93.994</td>\n",
       "      <td>-36.4</td>\n",
       "      <td>4.857</td>\n",
       "      <td>5191.0</td>\n",
       "      <td>no</td>\n",
       "    </tr>\n",
       "    <tr>\n",
       "      <th>3</th>\n",
       "      <td>40</td>\n",
       "      <td>admin.</td>\n",
       "      <td>married</td>\n",
       "      <td>basic.6y</td>\n",
       "      <td>no</td>\n",
       "      <td>no</td>\n",
       "      <td>no</td>\n",
       "      <td>telephone</td>\n",
       "      <td>may</td>\n",
       "      <td>mon</td>\n",
       "      <td>...</td>\n",
       "      <td>1</td>\n",
       "      <td>999</td>\n",
       "      <td>0</td>\n",
       "      <td>nonexistent</td>\n",
       "      <td>1.1</td>\n",
       "      <td>93.994</td>\n",
       "      <td>-36.4</td>\n",
       "      <td>4.857</td>\n",
       "      <td>5191.0</td>\n",
       "      <td>no</td>\n",
       "    </tr>\n",
       "    <tr>\n",
       "      <th>4</th>\n",
       "      <td>56</td>\n",
       "      <td>services</td>\n",
       "      <td>married</td>\n",
       "      <td>high.school</td>\n",
       "      <td>no</td>\n",
       "      <td>no</td>\n",
       "      <td>yes</td>\n",
       "      <td>telephone</td>\n",
       "      <td>may</td>\n",
       "      <td>mon</td>\n",
       "      <td>...</td>\n",
       "      <td>1</td>\n",
       "      <td>999</td>\n",
       "      <td>0</td>\n",
       "      <td>nonexistent</td>\n",
       "      <td>1.1</td>\n",
       "      <td>93.994</td>\n",
       "      <td>-36.4</td>\n",
       "      <td>4.857</td>\n",
       "      <td>5191.0</td>\n",
       "      <td>no</td>\n",
       "    </tr>\n",
       "  </tbody>\n",
       "</table>\n",
       "<p>5 rows × 21 columns</p>\n",
       "</div>"
      ],
      "text/plain": [
       "   age        job  marital    education  default housing loan    contact  \\\n",
       "0   56  housemaid  married     basic.4y       no      no   no  telephone   \n",
       "1   57   services  married  high.school  unknown      no   no  telephone   \n",
       "2   37   services  married  high.school       no     yes   no  telephone   \n",
       "3   40     admin.  married     basic.6y       no      no   no  telephone   \n",
       "4   56   services  married  high.school       no      no  yes  telephone   \n",
       "\n",
       "  month day_of_week  ...  campaign  pdays  previous     poutcome emp.var.rate  \\\n",
       "0   may         mon  ...         1    999         0  nonexistent          1.1   \n",
       "1   may         mon  ...         1    999         0  nonexistent          1.1   \n",
       "2   may         mon  ...         1    999         0  nonexistent          1.1   \n",
       "3   may         mon  ...         1    999         0  nonexistent          1.1   \n",
       "4   may         mon  ...         1    999         0  nonexistent          1.1   \n",
       "\n",
       "   cons.price.idx  cons.conf.idx  euribor3m  nr.employed   y  \n",
       "0          93.994          -36.4      4.857       5191.0  no  \n",
       "1          93.994          -36.4      4.857       5191.0  no  \n",
       "2          93.994          -36.4      4.857       5191.0  no  \n",
       "3          93.994          -36.4      4.857       5191.0  no  \n",
       "4          93.994          -36.4      4.857       5191.0  no  \n",
       "\n",
       "[5 rows x 21 columns]"
      ]
     },
     "execution_count": 4,
     "metadata": {},
     "output_type": "execute_result"
    }
   ],
   "source": [
    "data = pd.read_csv(r'E:\\Coding\\Summer 2023\\supervised learning bank data\\data\\bank-additional-full.csv', sep=';', header=0)\n",
    "data.head()"
   ]
  },
  {
   "attachments": {},
   "cell_type": "markdown",
   "metadata": {},
   "source": [
    "Checking for missing values"
   ]
  },
  {
   "cell_type": "code",
   "execution_count": 5,
   "metadata": {},
   "outputs": [
    {
     "name": "stdout",
     "output_type": "stream",
     "text": [
      "<class 'pandas.core.frame.DataFrame'>\n",
      "RangeIndex: 41188 entries, 0 to 41187\n",
      "Data columns (total 21 columns):\n",
      " #   Column          Non-Null Count  Dtype  \n",
      "---  ------          --------------  -----  \n",
      " 0   age             41188 non-null  int64  \n",
      " 1   job             41188 non-null  object \n",
      " 2   marital         41188 non-null  object \n",
      " 3   education       41188 non-null  object \n",
      " 4   default         41188 non-null  object \n",
      " 5   housing         41188 non-null  object \n",
      " 6   loan            41188 non-null  object \n",
      " 7   contact         41188 non-null  object \n",
      " 8   month           41188 non-null  object \n",
      " 9   day_of_week     41188 non-null  object \n",
      " 10  duration        41188 non-null  int64  \n",
      " 11  campaign        41188 non-null  int64  \n",
      " 12  pdays           41188 non-null  int64  \n",
      " 13  previous        41188 non-null  int64  \n",
      " 14  poutcome        41188 non-null  object \n",
      " 15  emp.var.rate    41188 non-null  float64\n",
      " 16  cons.price.idx  41188 non-null  float64\n",
      " 17  cons.conf.idx   41188 non-null  float64\n",
      " 18  euribor3m       41188 non-null  float64\n",
      " 19  nr.employed     41188 non-null  float64\n",
      " 20  y               41188 non-null  object \n",
      "dtypes: float64(5), int64(5), object(11)\n",
      "memory usage: 6.6+ MB\n"
     ]
    }
   ],
   "source": [
    "data.info()"
   ]
  },
  {
   "attachments": {},
   "cell_type": "markdown",
   "metadata": {},
   "source": [
    "From documentation of the data:    \n",
    "* *pdays:* number of days that passed by after the client was last contacted from a previous campaign (numeric; 999 means client was not previously contacted)    \n",
    "* *duration:* last contact duration, in seconds (numeric). Important note:  this attribute highly affects the output target (e.g., if duration=0 then y='no'). Yet, the duration is not known before a call is performed. Also, after the end of the call y is obviously known. Thus, this input should only be included for benchmark purposes and should be discarded if the intention is to have a realistic predictive model."
   ]
  },
  {
   "cell_type": "code",
   "execution_count": 6,
   "id": "cdea70e6-be7c-4d70-b624-d835c1552363",
   "metadata": {
    "id": "cdea70e6-be7c-4d70-b624-d835c1552363"
   },
   "outputs": [
    {
     "data": {
      "text/plain": [
       "0.9632174419733903"
      ]
     },
     "execution_count": 6,
     "metadata": {},
     "output_type": "execute_result"
    }
   ],
   "source": [
    "data[data['pdays'] == 999].shape[0]/data.shape[0]"
   ]
  },
  {
   "cell_type": "code",
   "execution_count": 7,
   "metadata": {},
   "outputs": [],
   "source": [
    "data['pdays'] = data['pdays'].astype('category')\n",
    "data.drop(['duration'], axis=1, inplace=True)"
   ]
  },
  {
   "attachments": {},
   "cell_type": "markdown",
   "id": "ce439892-0b07-4bc9-b7c3-73f0187cad25",
   "metadata": {
    "id": "ce439892-0b07-4bc9-b7c3-73f0187cad25",
    "tags": []
   },
   "source": [
    "Converting 'pdays' from int64 to categorical and dropping the 'duration' attribute."
   ]
  },
  {
   "attachments": {},
   "cell_type": "markdown",
   "metadata": {},
   "source": [
    "Note that there is a high imbalance in the data"
   ]
  },
  {
   "cell_type": "code",
   "execution_count": 8,
   "metadata": {},
   "outputs": [
    {
     "data": {
      "text/plain": [
       "{'YES': 0.113, 'NO': 0.887}"
      ]
     },
     "execution_count": 8,
     "metadata": {},
     "output_type": "execute_result"
    }
   ],
   "source": [
    "# The baseline accuracy is 88.7% if we predict yes for all inputs.\n",
    "# It shows imbalance in data.\n",
    "\n",
    "{\"YES\": round(np.mean(data[\"y\"] == \"yes\"), 3), \"NO\": np.round(np.mean(data[\"y\"] == \"no\"), 3)}"
   ]
  },
  {
   "cell_type": "code",
   "execution_count": 9,
   "metadata": {},
   "outputs": [],
   "source": [
    "# Selecting the Categorical attributes\n",
    "catvar = data.select_dtypes(include=['object','category']).astype('category').columns.values.tolist()\n",
    "catvar = [i for i in catvar if i not in ['month','education','day_of_week','y']]\n",
    "\n",
    "# Selecting the Numeric Variables\n",
    "numvar = data._get_numeric_data().columns.values.tolist()"
   ]
  },
  {
   "attachments": {},
   "cell_type": "markdown",
   "id": "4821b3d0-10a2-453d-bd67-2c83f4c7b30f",
   "metadata": {
    "id": "4821b3d0-10a2-453d-bd67-2c83f4c7b30f"
   },
   "source": [
    "---"
   ]
  },
  {
   "attachments": {},
   "cell_type": "markdown",
   "metadata": {},
   "source": [
    "## Preprocessing the Data"
   ]
  },
  {
   "cell_type": "code",
   "execution_count": 10,
   "metadata": {},
   "outputs": [],
   "source": [
    "# Splitting Data before any sort of prepocessing to avoid any form of data leakage.\n",
    "X = data.drop('y', axis=1).copy(deep = True)\n",
    "Y = data[\"y\"].copy(deep = True)\n",
    "\n",
    "#One hot encoding\n",
    "cols = X.select_dtypes(include=['object', 'category']).columns.tolist()\n",
    "X_encoded = pd.get_dummies(X, cols)\n",
    "\n",
    "X_train, X_test, y_train, y_test = train_test_split(X_encoded, Y, random_state=seed, stratify=Y)"
   ]
  },
  {
   "cell_type": "markdown",
   "metadata": {},
   "source": [
    "## Utility Functions"
   ]
  },
  {
   "cell_type": "code",
   "execution_count": 11,
   "metadata": {},
   "outputs": [],
   "source": [
    "def result_disp(model, X_train, X_test, y_train, y_test, name):\n",
    "    y_pred = model.predict(X_train)\n",
    "    print('\\nTraining Data Scores:')\n",
    "    print('Precision: {:0.6f}'.format(metrics.precision_score(y_train, y_pred, pos_label='yes')))\n",
    "    print('Recall: {:0.6f}'.format(metrics.recall_score(y_train, y_pred, pos_label='yes')))\n",
    "    print('F-Score: {:0.6f}'.format(metrics.f1_score(y_train, y_pred, pos_label='yes')))\n",
    "    print('Accuracy: {:0.6f}'.format(metrics.accuracy_score(y_train, y_pred)))\n",
    "    \n",
    "    y_pred = model.predict(X_test)\n",
    "    print('\\nTest Data Scores:')\n",
    "    print('Precision: {:0.6f}'.format(metrics.precision_score(y_test, y_pred, pos_label='yes')))\n",
    "    print('Recall: {:0.6f}'.format(metrics.recall_score(y_test, y_pred, pos_label='yes')))\n",
    "    print('F-Score: {:0.6f}'.format(metrics.f1_score(y_test, y_pred, pos_label='yes')))\n",
    "    print('Accuracy: {:0.6f}\\n\\n'.format(metrics.accuracy_score(y_test, y_pred)))\n",
    "\n",
    "    predictions = model.predict(X_test)\n",
    "    cm = metrics.confusion_matrix(y_test, predictions, labels=['yes', 'no'])\n",
    "    disp = metrics.ConfusionMatrixDisplay(confusion_matrix=cm,\n",
    "                                display_labels=['yes', 'no'])\n",
    "    disp.plot()\n",
    "    plt.show()"
   ]
  },
  {
   "cell_type": "markdown",
   "metadata": {},
   "source": [
    "# Naive Bayes"
   ]
  },
  {
   "cell_type": "markdown",
   "metadata": {},
   "source": [
    "## Gaussian Naive Bayes"
   ]
  },
  {
   "cell_type": "code",
   "execution_count": 21,
   "metadata": {},
   "outputs": [
    {
     "data": {
      "text/html": [
       "<style>#sk-container-id-1 {color: black;background-color: white;}#sk-container-id-1 pre{padding: 0;}#sk-container-id-1 div.sk-toggleable {background-color: white;}#sk-container-id-1 label.sk-toggleable__label {cursor: pointer;display: block;width: 100%;margin-bottom: 0;padding: 0.3em;box-sizing: border-box;text-align: center;}#sk-container-id-1 label.sk-toggleable__label-arrow:before {content: \"▸\";float: left;margin-right: 0.25em;color: #696969;}#sk-container-id-1 label.sk-toggleable__label-arrow:hover:before {color: black;}#sk-container-id-1 div.sk-estimator:hover label.sk-toggleable__label-arrow:before {color: black;}#sk-container-id-1 div.sk-toggleable__content {max-height: 0;max-width: 0;overflow: hidden;text-align: left;background-color: #f0f8ff;}#sk-container-id-1 div.sk-toggleable__content pre {margin: 0.2em;color: black;border-radius: 0.25em;background-color: #f0f8ff;}#sk-container-id-1 input.sk-toggleable__control:checked~div.sk-toggleable__content {max-height: 200px;max-width: 100%;overflow: auto;}#sk-container-id-1 input.sk-toggleable__control:checked~label.sk-toggleable__label-arrow:before {content: \"▾\";}#sk-container-id-1 div.sk-estimator input.sk-toggleable__control:checked~label.sk-toggleable__label {background-color: #d4ebff;}#sk-container-id-1 div.sk-label input.sk-toggleable__control:checked~label.sk-toggleable__label {background-color: #d4ebff;}#sk-container-id-1 input.sk-hidden--visually {border: 0;clip: rect(1px 1px 1px 1px);clip: rect(1px, 1px, 1px, 1px);height: 1px;margin: -1px;overflow: hidden;padding: 0;position: absolute;width: 1px;}#sk-container-id-1 div.sk-estimator {font-family: monospace;background-color: #f0f8ff;border: 1px dotted black;border-radius: 0.25em;box-sizing: border-box;margin-bottom: 0.5em;}#sk-container-id-1 div.sk-estimator:hover {background-color: #d4ebff;}#sk-container-id-1 div.sk-parallel-item::after {content: \"\";width: 100%;border-bottom: 1px solid gray;flex-grow: 1;}#sk-container-id-1 div.sk-label:hover label.sk-toggleable__label {background-color: #d4ebff;}#sk-container-id-1 div.sk-serial::before {content: \"\";position: absolute;border-left: 1px solid gray;box-sizing: border-box;top: 0;bottom: 0;left: 50%;z-index: 0;}#sk-container-id-1 div.sk-serial {display: flex;flex-direction: column;align-items: center;background-color: white;padding-right: 0.2em;padding-left: 0.2em;position: relative;}#sk-container-id-1 div.sk-item {position: relative;z-index: 1;}#sk-container-id-1 div.sk-parallel {display: flex;align-items: stretch;justify-content: center;background-color: white;position: relative;}#sk-container-id-1 div.sk-item::before, #sk-container-id-1 div.sk-parallel-item::before {content: \"\";position: absolute;border-left: 1px solid gray;box-sizing: border-box;top: 0;bottom: 0;left: 50%;z-index: -1;}#sk-container-id-1 div.sk-parallel-item {display: flex;flex-direction: column;z-index: 1;position: relative;background-color: white;}#sk-container-id-1 div.sk-parallel-item:first-child::after {align-self: flex-end;width: 50%;}#sk-container-id-1 div.sk-parallel-item:last-child::after {align-self: flex-start;width: 50%;}#sk-container-id-1 div.sk-parallel-item:only-child::after {width: 0;}#sk-container-id-1 div.sk-dashed-wrapped {border: 1px dashed gray;margin: 0 0.4em 0.5em 0.4em;box-sizing: border-box;padding-bottom: 0.4em;background-color: white;}#sk-container-id-1 div.sk-label label {font-family: monospace;font-weight: bold;display: inline-block;line-height: 1.2em;}#sk-container-id-1 div.sk-label-container {text-align: center;}#sk-container-id-1 div.sk-container {/* jupyter's `normalize.less` sets `[hidden] { display: none; }` but bootstrap.min.css set `[hidden] { display: none !important; }` so we also need the `!important` here to be able to override the default hidden behavior on the sphinx rendered scikit-learn.org. See: https://github.com/scikit-learn/scikit-learn/issues/21755 */display: inline-block !important;position: relative;}#sk-container-id-1 div.sk-text-repr-fallback {display: none;}</style><div id=\"sk-container-id-1\" class=\"sk-top-container\"><div class=\"sk-text-repr-fallback\"><pre>GaussianNB()</pre><b>In a Jupyter environment, please rerun this cell to show the HTML representation or trust the notebook. <br />On GitHub, the HTML representation is unable to render, please try loading this page with nbviewer.org.</b></div><div class=\"sk-container\" hidden><div class=\"sk-item\"><div class=\"sk-estimator sk-toggleable\"><input class=\"sk-toggleable__control sk-hidden--visually\" id=\"sk-estimator-id-1\" type=\"checkbox\" checked><label for=\"sk-estimator-id-1\" class=\"sk-toggleable__label sk-toggleable__label-arrow\">GaussianNB</label><div class=\"sk-toggleable__content\"><pre>GaussianNB()</pre></div></div></div></div></div>"
      ],
      "text/plain": [
       "GaussianNB()"
      ]
     },
     "execution_count": 21,
     "metadata": {},
     "output_type": "execute_result"
    }
   ],
   "source": [
    "model_nb = GaussianNB()\n",
    "model_nb.fit(X_train,y_train)"
   ]
  },
  {
   "cell_type": "code",
   "execution_count": 22,
   "metadata": {},
   "outputs": [
    {
     "name": "stdout",
     "output_type": "stream",
     "text": [
      "Naive Bayes score:  0.8878314072059823\n"
     ]
    }
   ],
   "source": [
    "print(\"Naive Bayes score: \",model_nb.score(X_test, y_test))"
   ]
  },
  {
   "cell_type": "markdown",
   "metadata": {},
   "source": [
    "### Feature Selection using Kbest algorithm"
   ]
  },
  {
   "cell_type": "code",
   "execution_count": 23,
   "metadata": {},
   "outputs": [],
   "source": [
    "X_cat = X.select_dtypes(include=['object', 'category'])\n",
    "X_num = X.select_dtypes(exclude=['object', 'category'])"
   ]
  },
  {
   "cell_type": "markdown",
   "metadata": {},
   "source": [
    "**For categorical features**"
   ]
  },
  {
   "cell_type": "code",
   "execution_count": 24,
   "metadata": {},
   "outputs": [],
   "source": [
    "#label encoding\n",
    "cols = X_cat.columns\n",
    "X_cat_encoded = X_cat.copy(deep=True)\n",
    "X_cat_encoded[cols] = X_cat[cols].apply(LabelEncoder().fit_transform)"
   ]
  },
  {
   "cell_type": "code",
   "execution_count": 25,
   "metadata": {},
   "outputs": [],
   "source": [
    "#split train test\n",
    "X_fs_train, X_fs_test, y_fs_train, y_fs_test = train_test_split(X_cat_encoded, Y, random_state=42, stratify=Y)"
   ]
  },
  {
   "cell_type": "code",
   "execution_count": 26,
   "metadata": {},
   "outputs": [
    {
     "name": "stdout",
     "output_type": "stream",
     "text": [
      "[6.457e+01 2.410e+01 1.210e+02 2.308e+02 2.882e+00 1.111e-01 3.925e+02\n",
      " 1.027e+00 3.209e+00 1.893e+03 7.388e+01]\n"
     ]
    }
   ],
   "source": [
    "#feature selection\n",
    "from sklearn.feature_selection import chi2\n",
    "test = SelectKBest(score_func=chi2, k='all')\n",
    "fit = test.fit(X_fs_train, y_fs_train)\n",
    "np.set_printoptions(precision=3)\n",
    "print(fit.scores_)"
   ]
  },
  {
   "cell_type": "code",
   "execution_count": 27,
   "metadata": {},
   "outputs": [
    {
     "data": {
      "text/plain": [
       "<BarContainer object of 11 artists>"
      ]
     },
     "execution_count": 27,
     "metadata": {},
     "output_type": "execute_result"
    },
    {
     "data": {
      "image/png": "[encoded data removed]",
      "text/plain": [
       "<Figure size 640x480 with 1 Axes>"
      ]
     },
     "metadata": {},
     "output_type": "display_data"
    }
   ],
   "source": [
    "plt.barh(X_fs_train.columns,fit.scores_)"
   ]
  },
  {
   "cell_type": "markdown",
   "metadata": {},
   "source": [
    "**For numerical features**"
   ]
  },
  {
   "cell_type": "code",
   "execution_count": 28,
   "metadata": {},
   "outputs": [
    {
     "name": "stdout",
     "output_type": "stream",
     "text": [
      "[  25.102  132.207 1728.892 2859.746  525.952   89.605 3080.121 4277.643]\n"
     ]
    },
    {
     "data": {
      "text/plain": [
       "<BarContainer object of 8 artists>"
      ]
     },
     "execution_count": 28,
     "metadata": {},
     "output_type": "execute_result"
    },
    {
     "data": {
      "image/png": "[encoded data removed]",
      "text/plain": [
       "<Figure size 640x480 with 1 Axes>"
      ]
     },
     "metadata": {},
     "output_type": "display_data"
    }
   ],
   "source": [
    "#split train test\n",
    "X_fs1_train, X_fs1_test, y_fs1_train, y_fs1_test = train_test_split(X_num, Y, random_state=42, stratify=Y)\n",
    "\n",
    "#feature selection\n",
    "from sklearn.feature_selection import f_classif\n",
    "test = SelectKBest(score_func=f_classif, k='all')\n",
    "fit = test.fit(X_fs1_train, y_fs1_train)\n",
    "np.set_printoptions(precision=3)\n",
    "print(fit.scores_)\n",
    "\n",
    "plt.barh(X_fs1_train.columns,fit.scores_)"
   ]
  },
  {
   "cell_type": "markdown",
   "metadata": {},
   "source": [
    "**Training model after feature selection**"
   ]
  },
  {
   "cell_type": "code",
   "execution_count": 29,
   "metadata": {},
   "outputs": [
    {
     "name": "stdout",
     "output_type": "stream",
     "text": [
      "Naive Bayes accuracy:  0.89501796639798\n",
      "              precision    recall  f1-score   support\n",
      "\n",
      "          no       0.91      0.98      0.94      9137\n",
      "         yes       0.60      0.20      0.30      1160\n",
      "\n",
      "    accuracy                           0.90     10297\n",
      "   macro avg       0.75      0.59      0.62     10297\n",
      "weighted avg       0.87      0.90      0.87     10297\n",
      "\n"
     ]
    }
   ],
   "source": [
    "#removed less important features from X_t1\n",
    "dummy_X = X.drop(columns=[\"cons.conf.idx\",\"campaign\",\"age\",\"cons.price.idx\",\"day_of_week\",\"month\",\"loan\", \"housing\"])\n",
    "\n",
    "#One hot encoding of dummy_X\n",
    "cols = dummy_X.select_dtypes(include=['object', 'category']).columns.tolist()\n",
    "X_encoded = pd.get_dummies(dummy_X, cols)\n",
    "\n",
    "#Splitting dataset\n",
    "X_train, X_test, y_train, y_test = train_test_split(X_encoded, Y, random_state=42, stratify=Y)\n",
    "\n",
    "#training model\n",
    "from sklearn.naive_bayes import GaussianNB\n",
    "model_t1 = GaussianNB()\n",
    "model_t1.fit(X_train,y_train)\n",
    "\n",
    "#testing model on entire test set (with all features)\n",
    "print(\"Naive Bayes accuracy: \",model_t1.score(X_test, y_test))\n",
    "print(metrics.classification_report(y_test, model_t1.predict(X_test)))"
   ]
  },
  {
   "cell_type": "markdown",
   "metadata": {},
   "source": [
    "### Hyperparameter tuning"
   ]
  },
  {
   "cell_type": "markdown",
   "metadata": {},
   "source": [
    "**Grid Search CV was used for hyperparameter tuning on the data obtained after feature selection**"
   ]
  },
  {
   "cell_type": "code",
   "execution_count": 30,
   "metadata": {},
   "outputs": [],
   "source": [
    "param_grid_nb = {\n",
    "    'var_smoothing': np.logspace(0,-9, num=100)\n",
    "}"
   ]
  },
  {
   "cell_type": "code",
   "execution_count": 31,
   "metadata": {},
   "outputs": [],
   "source": [
    "nbModel_grid = GridSearchCV(estimator=GaussianNB(), param_grid=param_grid_nb)"
   ]
  },
  {
   "cell_type": "code",
   "execution_count": 32,
   "metadata": {},
   "outputs": [
    {
     "name": "stdout",
     "output_type": "stream",
     "text": [
      "GaussianNB()\n"
     ]
    }
   ],
   "source": [
    "nbModel_grid.fit(X_train, y_train)\n",
    "print(nbModel_grid.best_estimator_)\n",
    "y_pred = nbModel_grid.predict(X_test)"
   ]
  },
  {
   "cell_type": "code",
   "execution_count": 33,
   "metadata": {},
   "outputs": [
    {
     "name": "stdout",
     "output_type": "stream",
     "text": [
      "Accuracy score:  0.89501796639798\n"
     ]
    }
   ],
   "source": [
    "print(\"Accuracy score: \", metrics.accuracy_score(y_test, y_pred))"
   ]
  },
  {
   "cell_type": "code",
   "execution_count": 34,
   "metadata": {},
   "outputs": [
    {
     "name": "stdout",
     "output_type": "stream",
     "text": [
      "              precision    recall  f1-score   support\n",
      "\n",
      "          no       0.91      0.98      0.94      9137\n",
      "         yes       0.60      0.20      0.30      1160\n",
      "\n",
      "    accuracy                           0.90     10297\n",
      "   macro avg       0.75      0.59      0.62     10297\n",
      "weighted avg       0.87      0.90      0.87     10297\n",
      "\n"
     ]
    }
   ],
   "source": [
    "print(metrics.classification_report(y_test, y_pred))"
   ]
  },
  {
   "cell_type": "code",
   "execution_count": 35,
   "metadata": {},
   "outputs": [
    {
     "name": "stdout",
     "output_type": "stream",
     "text": [
      "\n",
      "Training Data Scores:\n",
      "Precision: 0.594340\n",
      "Recall: 0.217241\n",
      "F-Score: 0.318182\n",
      "Accuracy: 0.895115\n",
      "\n",
      "Test Data Scores:\n",
      "Precision: 0.602067\n",
      "Recall: 0.200862\n",
      "F-Score: 0.301228\n",
      "Accuracy: 0.895018\n",
      "\n",
      "\n"
     ]
    },
    {
     "data": {
      "image/png": "[encoded data removed]",
      "text/plain": [
       "<Figure size 640x480 with 2 Axes>"
      ]
     },
     "metadata": {},
     "output_type": "display_data"
    }
   ],
   "source": [
    "# Final Results\n",
    "\n",
    "result_disp(nbModel_grid, X_train, X_test, y_train, y_test, 'Naive Bayes')"
   ]
  },
  {
   "cell_type": "markdown",
   "metadata": {},
   "source": [
    "# Decision Tree"
   ]
  },
  {
   "cell_type": "code",
   "execution_count": 17,
   "metadata": {},
   "outputs": [],
   "source": [
    "# Base Classifier\n",
    "\n",
    "dec_tree = tree.DecisionTreeClassifier(ccp_alpha = 0.0002, random_state=seed)\n",
    "bg_clf = dec_tree.fit(X_train,y_train)"
   ]
  },
  {
   "cell_type": "code",
   "execution_count": 18,
   "metadata": {},
   "outputs": [
    {
     "name": "stdout",
     "output_type": "stream",
     "text": [
      "              precision    recall  f1-score   support\n",
      "\n",
      "          no       0.91      0.98      0.95      9137\n",
      "         yes       0.68      0.26      0.38      1160\n",
      "\n",
      "    accuracy                           0.90     10297\n",
      "   macro avg       0.80      0.62      0.66     10297\n",
      "weighted avg       0.89      0.90      0.88     10297\n",
      "\n"
     ]
    }
   ],
   "source": [
    "print(metrics.classification_report(y_test, bg_clf.predict(X_test)))"
   ]
  },
  {
   "cell_type": "code",
   "execution_count": 19,
   "metadata": {},
   "outputs": [
    {
     "name": "stdout",
     "output_type": "stream",
     "text": [
      "\n",
      "Training Data Scores:\n",
      "Precision: 0.646383\n",
      "Recall: 0.274713\n",
      "F-Score: 0.385562\n",
      "Accuracy: 0.901363\n",
      "\n",
      "Test Data Scores:\n",
      "Precision: 0.678492\n",
      "Recall: 0.263793\n",
      "F-Score: 0.379888\n",
      "Accuracy: 0.902981\n",
      "\n",
      "\n"
     ]
    },
    {
     "data": {
      "image/png": "[encoded data removed]",
      "text/plain": [
       "<Figure size 640x480 with 2 Axes>"
      ]
     },
     "metadata": {},
     "output_type": "display_data"
    }
   ],
   "source": [
    "# Final Results\n",
    "result_disp(bg_clf, X_train, X_test, y_train, y_test, 'Decision Tree')"
   ]
  },
  {
   "cell_type": "markdown",
   "metadata": {},
   "source": [
    "## Random Forest Classifier"
   ]
  },
  {
   "cell_type": "markdown",
   "metadata": {},
   "source": [
    "**Without any improvements**"
   ]
  },
  {
   "cell_type": "code",
   "execution_count": 13,
   "metadata": {},
   "outputs": [
    {
     "name": "stdout",
     "output_type": "stream",
     "text": [
      "peak memory: 362.40 MiB, increment: 83.66 MiB\n",
      "Random Forest Classifier runtime: 10.44 seconds\n"
     ]
    }
   ],
   "source": [
    "start = timeit.default_timer()\n",
    "rf_clf = RandomForestClassifier(random_state=seed)\n",
    "%memit rf_clf = rf_clf.fit(X_train, y_train)\n",
    "stop = timeit.default_timer()\n",
    "runtime = stop - start\n",
    "print(\"Random Forest Classifier runtime: {0:.2f} seconds\".format(runtime))"
   ]
  },
  {
   "cell_type": "code",
   "execution_count": 17,
   "metadata": {},
   "outputs": [
    {
     "name": "stdout",
     "output_type": "stream",
     "text": [
      "              precision    recall  f1-score   support\n",
      "\n",
      "          no       0.91      0.97      0.94      9137\n",
      "         yes       0.55      0.27      0.36      1160\n",
      "\n",
      "    accuracy                           0.89     10297\n",
      "   macro avg       0.73      0.62      0.65     10297\n",
      "weighted avg       0.87      0.89      0.88     10297\n",
      "\n"
     ]
    }
   ],
   "source": [
    "print(metrics.classification_report(y_test, rf_clf.predict(X_test)))"
   ]
  },
  {
   "cell_type": "code",
   "execution_count": 15,
   "metadata": {},
   "outputs": [
    {
     "name": "stdout",
     "output_type": "stream",
     "text": [
      "\n",
      "Training Data Scores:\n",
      "Precision: 0.992643\n",
      "Recall: 0.969253\n",
      "F-Score: 0.980808\n",
      "Accuracy: 0.995727\n",
      "\n",
      "Test Data Scores:\n",
      "Precision: 0.546573\n",
      "Recall: 0.268103\n",
      "F-Score: 0.359746\n",
      "Accuracy: 0.892493\n",
      "\n",
      "\n"
     ]
    },
    {
     "data": {
      "image/png": "[encoded data removed]",
      "text/plain": [
       "<Figure size 640x480 with 2 Axes>"
      ]
     },
     "metadata": {},
     "output_type": "display_data"
    }
   ],
   "source": [
    "# Final Results\n",
    "\n",
    "result_disp(rf_clf, X_train, X_test, y_train, y_test, 'Random Forest')"
   ]
  },
  {
   "cell_type": "code",
   "execution_count": 19,
   "metadata": {},
   "outputs": [
    {
     "name": "stdout",
     "output_type": "stream",
     "text": [
      "Random Forest Classifier accuracy:  89.24929591143052 %\n"
     ]
    }
   ],
   "source": [
    "print(\"Random Forest Classifier accuracy: \", rf_clf.score(X_test, y_test)*100, \"%\")"
   ]
  },
  {
   "cell_type": "markdown",
   "metadata": {},
   "source": [
    "## Hyperparameter tuning with grid search CV"
   ]
  },
  {
   "cell_type": "markdown",
   "metadata": {},
   "source": [
    "We're going to use 5 fold cross validation to get the best hyperparameter as Decision tress are prone to overfitting."
   ]
  },
  {
   "cell_type": "code",
   "execution_count": 20,
   "metadata": {},
   "outputs": [],
   "source": [
    "params = {'max_depth': [1,2,4,5],\n",
    "         'min_samples_split': [2,3,4],\n",
    "         'min_samples_leaf': [1,2,3,4,5]}"
   ]
  },
  {
   "cell_type": "code",
   "execution_count": 21,
   "metadata": {},
   "outputs": [
    {
     "name": "stdout",
     "output_type": "stream",
     "text": [
      "peak memory: 333.42 MiB, increment: 34.64 MiB\n",
      "Random Forest Classifier with Grid Search CV runtime: 501.06 seconds\n"
     ]
    }
   ],
   "source": [
    "start = timeit.default_timer()\n",
    "clf_dt = RandomForestClassifier(random_state=seed)\n",
    "clf_dt = GridSearchCV(estimator= clf_dt, param_grid=params, verbose=False, cv = 5)\n",
    "%memit clf_dt = clf_dt.fit(X_train, y_train)\n",
    "stop = timeit.default_timer()\n",
    "runtime = stop - start\n",
    "print(\"Random Forest Classifier with Grid Search CV runtime: {0:.2f} seconds\".format(runtime))"
   ]
  },
  {
   "cell_type": "code",
   "execution_count": 24,
   "metadata": {},
   "outputs": [
    {
     "name": "stdout",
     "output_type": "stream",
     "text": [
      "              precision    recall  f1-score   support\n",
      "\n",
      "          no       0.90      0.99      0.95      9137\n",
      "         yes       0.76      0.17      0.27      1160\n",
      "\n",
      "    accuracy                           0.90     10297\n",
      "   macro avg       0.83      0.58      0.61     10297\n",
      "weighted avg       0.89      0.90      0.87     10297\n",
      "\n"
     ]
    }
   ],
   "source": [
    "print(metrics.classification_report(y_test, clf_dt.predict(X_test)))"
   ]
  },
  {
   "cell_type": "code",
   "execution_count": 25,
   "metadata": {},
   "outputs": [
    {
     "name": "stdout",
     "output_type": "stream",
     "text": [
      "\n",
      "Training Data Scores:\n",
      "Precision: 0.719484\n",
      "Recall: 0.176149\n",
      "F-Score: 0.283010\n",
      "Accuracy: 0.899453\n",
      "\n",
      "Test Data Scores:\n",
      "Precision: 0.760784\n",
      "Recall: 0.167241\n",
      "F-Score: 0.274205\n",
      "Accuracy: 0.900262\n",
      "\n",
      "\n"
     ]
    },
    {
     "data": {
      "image/png": "[encoded data removed]",
      "text/plain": [
       "<Figure size 640x480 with 2 Axes>"
      ]
     },
     "metadata": {},
     "output_type": "display_data"
    }
   ],
   "source": [
    "# Final Results\n",
    "\n",
    "result_disp(clf_dt, X_train, X_test, y_train, y_test, 'Random Forest with Grid Search CV')"
   ]
  },
  {
   "cell_type": "code",
   "execution_count": 26,
   "metadata": {},
   "outputs": [
    {
     "name": "stdout",
     "output_type": "stream",
     "text": [
      "Random Forest with Grid Search CV accuracy:  90.02622122948432 %\n"
     ]
    }
   ],
   "source": [
    "print(\"Random Forest with Grid Search CV accuracy: \",clf_dt.score(X_test, y_test)*100, \"%\")"
   ]
  },
  {
   "cell_type": "markdown",
   "metadata": {},
   "source": [
    "## Boosting"
   ]
  },
  {
   "cell_type": "code",
   "execution_count": 29,
   "metadata": {},
   "outputs": [
    {
     "name": "stdout",
     "output_type": "stream",
     "text": [
      "peak memory: 333.84 MiB, increment: 37.12 MiB\n",
      "Boosting with decision stumps runtime: 415.34 seconds\n"
     ]
    }
   ],
   "source": [
    "start = timeit.default_timer()\n",
    "clf_b = AdaBoostClassifier(base_estimator = DecisionTreeClassifier(max_depth=1), random_state=seed)\n",
    "%memit clf_b = clf_dt.fit(X_train, y_train)\n",
    "stop = timeit.default_timer()\n",
    "runtime = stop - start\n",
    "print(\"Boosting with decision stumps runtime: {0:.2f} seconds\".format(runtime))"
   ]
  },
  {
   "cell_type": "code",
   "execution_count": 31,
   "metadata": {},
   "outputs": [
    {
     "name": "stdout",
     "output_type": "stream",
     "text": [
      "              precision    recall  f1-score   support\n",
      "\n",
      "          no       0.90      0.99      0.95      9137\n",
      "         yes       0.76      0.17      0.27      1160\n",
      "\n",
      "    accuracy                           0.90     10297\n",
      "   macro avg       0.83      0.58      0.61     10297\n",
      "weighted avg       0.89      0.90      0.87     10297\n",
      "\n"
     ]
    }
   ],
   "source": [
    "print(metrics.classification_report(y_test, clf_b.predict(X_test)))"
   ]
  },
  {
   "cell_type": "code",
   "execution_count": 32,
   "metadata": {},
   "outputs": [
    {
     "name": "stdout",
     "output_type": "stream",
     "text": [
      "\n",
      "Training Data Scores:\n",
      "Precision: 0.719484\n",
      "Recall: 0.176149\n",
      "F-Score: 0.283010\n",
      "Accuracy: 0.899453\n",
      "\n",
      "Test Data Scores:\n",
      "Precision: 0.760784\n",
      "Recall: 0.167241\n",
      "F-Score: 0.274205\n",
      "Accuracy: 0.900262\n",
      "\n",
      "\n"
     ]
    },
    {
     "data": {
      "image/png": "[encoded data removed]",
      "text/plain": [
       "<Figure size 640x480 with 2 Axes>"
      ]
     },
     "metadata": {},
     "output_type": "display_data"
    }
   ],
   "source": [
    "# Final Results\n",
    "\n",
    "result_disp(clf_b, X_train, X_test, y_train, y_test, 'Boosting with decision stumps')"
   ]
  },
  {
   "cell_type": "code",
   "execution_count": 33,
   "metadata": {},
   "outputs": [
    {
     "name": "stdout",
     "output_type": "stream",
     "text": [
      "Boosting with decision stumps accuracy:  90.02622122948432 %\n"
     ]
    }
   ],
   "source": [
    "print(\"Boosting with decision stumps accuracy: \",clf_b.score(X_test, y_test)*100, \"%\")"
   ]
  },
  {
   "cell_type": "markdown",
   "metadata": {},
   "source": [
    "### Hyperparameter tuning with grid search CV"
   ]
  },
  {
   "cell_type": "markdown",
   "metadata": {},
   "source": [
    "We're going to use 5 fold cross validation to get the best hyperparameter as Decision tress are prone to overfitting."
   ]
  },
  {
   "cell_type": "code",
   "execution_count": 12,
   "metadata": {},
   "outputs": [],
   "source": [
    "params = {\n",
    "    'base_estimator': [DecisionTreeClassifier(max_depth=1)],\n",
    "    'n_estimators': [2, 5, 10, 20, 50, 100],\n",
    "    'learning_rate': [0.001, 0.01, 0.1, 0.5, 0.8],\n",
    "    'algorithm': ['SAMME', 'SAMME.R']\n",
    "}"
   ]
  },
  {
   "cell_type": "code",
   "execution_count": 13,
   "metadata": {},
   "outputs": [
    {
     "name": "stdout",
     "output_type": "stream",
     "text": [
      "peak memory: 245.95 MiB, increment: 37.71 MiB\n",
      "Boosting with decision stumps with Grid Search CV runtime: 920.05 seconds\n"
     ]
    }
   ],
   "source": [
    "start = timeit.default_timer()\n",
    "clf_dt = AdaBoostClassifier(random_state=42)\n",
    "clf_dt = GridSearchCV(estimator= clf_dt, param_grid=params, verbose=False, cv = 5)\n",
    "%memit clf_dt = clf_dt.fit(X_train, y_train)\n",
    "stop = timeit.default_timer()\n",
    "runtime = stop - start\n",
    "print(\"Boosting with decision stumps with Grid Search CV runtime: {0:.2f} seconds\".format(runtime))"
   ]
  },
  {
   "cell_type": "code",
   "execution_count": 14,
   "metadata": {},
   "outputs": [
    {
     "name": "stdout",
     "output_type": "stream",
     "text": [
      "              precision    recall  f1-score   support\n",
      "\n",
      "          no       0.91      0.99      0.95      9137\n",
      "         yes       0.73      0.19      0.31      1160\n",
      "\n",
      "    accuracy                           0.90     10297\n",
      "   macro avg       0.82      0.59      0.63     10297\n",
      "weighted avg       0.89      0.90      0.87     10297\n",
      "\n"
     ]
    }
   ],
   "source": [
    "print(metrics.classification_report(y_test, clf_dt.predict(X_test)))"
   ]
  },
  {
   "cell_type": "code",
   "execution_count": 15,
   "metadata": {},
   "outputs": [
    {
     "name": "stdout",
     "output_type": "stream",
     "text": [
      "\n",
      "Training Data Scores:\n",
      "Precision: 0.681996\n",
      "Recall: 0.200287\n",
      "F-Score: 0.309640\n",
      "Accuracy: 0.899388\n",
      "\n",
      "Test Data Scores:\n",
      "Precision: 0.730519\n",
      "Recall: 0.193966\n",
      "F-Score: 0.306540\n",
      "Accuracy: 0.901136\n",
      "\n",
      "\n"
     ]
    },
    {
     "data": {
      "image/png": "[encoded data removed]",
      "text/plain": [
       "<Figure size 640x480 with 2 Axes>"
      ]
     },
     "metadata": {},
     "output_type": "display_data"
    }
   ],
   "source": [
    "# Final Results\n",
    "\n",
    "result_disp(clf_dt, X_train, X_test, y_train, y_test, 'Boosting with decision stumps with Grid Search CV')"
   ]
  },
  {
   "cell_type": "code",
   "execution_count": 16,
   "metadata": {},
   "outputs": [
    {
     "name": "stdout",
     "output_type": "stream",
     "text": [
      "Boosting with decision stumps with Grid Search CV accuracy:  90.11362532776536 %\n"
     ]
    }
   ],
   "source": [
    "print(\"Boosting with decision stumps with Grid Search CV accuracy: \",clf_dt.score(X_test, y_test)*100, \"%\")"
   ]
  },
  {
   "cell_type": "code",
   "execution_count": null,
   "metadata": {},
   "outputs": [],
   "source": []
  }
 ],
 "metadata": {
  "kernelspec": {
   "display_name": "Python 3",
   "language": "python",
   "name": "python3"
  },
  "language_info": {
   "codemirror_mode": {
    "name": "ipython",
    "version": 3
   },
   "file_extension": ".py",
   "mimetype": "text/x-python",
   "name": "python",
   "nbconvert_exporter": "python",
   "pygments_lexer": "ipython3",
   "version": "3.10.11"
  },
  "orig_nbformat": 4
 },
 "nbformat": 4,
 "nbformat_minor": 2
}
